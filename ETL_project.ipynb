{
 "cells": [
  {
   "cell_type": "markdown",
   "source": [
    "### Related dependencies"
   ],
   "metadata": {}
  },
  {
   "cell_type": "code",
   "execution_count": 27,
   "source": [
    "import pandas as pd\n",
    "from sqlalchemy import create_engine\n",
    "import datetime\n",
    "import numpy as np\n",
    "import requests\n",
    "\n",
    "from census import Census\n",
    "\n",
    "\n",
    "# Import password and api key\n",
    "from config2 import api_key, password"
   ],
   "outputs": [],
   "metadata": {}
  },
  {
   "cell_type": "markdown",
   "source": [
    "# Extract"
   ],
   "metadata": {}
  },
  {
   "cell_type": "markdown",
   "source": [
    "### Perform API request for census data from 2012 to 2019"
   ],
   "metadata": {}
  },
  {
   "cell_type": "code",
   "execution_count": 28,
   "source": [
    "# Retrive census data for 2010\n",
    "c = Census(api_key, year=2012)\n",
    "# Run Census Search to retrieve data on all states\n",
    "census_data = c.acs5.get((\"NAME\", \"B19013_001E\", \"B02001_002E\",\"B02001_003E\",\"B02001_004E\",\"B02001_005E\",\"B02001_006E\",\"B02001_008E\",\n",
    "                        \"B03001_003E\",\"B01003_001E\",\"B01002_001E\",\"B19301_001E\",\"B17001_002E\",\"B15003_002E\"), {'for':'county:*','in':'state:09'})\n",
    "# Convert to DataFrame\n",
    "census_pd = pd.DataFrame(census_data)\n",
    "# Column Reordering\n",
    "census_pd = census_pd.rename(columns={\"B01003_001E\": \"Population\", \"B02001_002E\": \"White\",\"B02001_003E\": \"Black\",\"B02001_004E\": \"American Indian\",\n",
    "                                        \"B02001_005E\": \"Asian\",\"B02001_006E\": \"Native Hawaiian\",\"B02001_008E\": \"Two or more races\",\n",
    "                                        \"B03001_003E\": \"Hispanic\",\"B01002_001E\": \"Median Age\", \"B19013_001E\": \"Household Income\",\n",
    "                                      \"B19301_001E\": \"Per Capita Income\",\"B17001_002E\": \"Poverty Count\",\"B15003_002E\":\"Non Educated\",\n",
    "                                      \"NAME\": \"Name\", \"state\": \"State\"})                                          \n",
    "#Split NAME column to separate county and state\n",
    "census = census_pd[\"Name\"].astype(str)\n",
    "census = census.str.split(pat=\",\")\n",
    "data = census.tolist()\n",
    "county_state = [\"County name\", \"State\",]\n",
    "census = pd.DataFrame(data, columns = county_state)\n",
    "census_pd['County'] = census['County name']\n",
    "# Add in Poverty Rate (Poverty Count / Population)\n",
    "census_pd[\"Poverty Rate\"] = 100 * \\\n",
    "    census_pd[\"Poverty Count\"].astype(\n",
    "        int) / census_pd[\"Population\"].astype(int)\n",
    "#Add year column\n",
    "census_pd['Year'] = '2012'\n",
    "census_2012 = census_pd"
   ],
   "outputs": [],
   "metadata": {}
  },
  {
   "cell_type": "code",
   "execution_count": 29,
   "source": [
    "# Retrive census data for 2013\n",
    "c = Census(api_key, year=2013)\n",
    "# Run Census Search to retrieve data on all states\n",
    "census_data = c.acs5.get((\"NAME\", \"B19013_001E\", \"B02001_002E\",\"B02001_003E\",\"B02001_004E\",\"B02001_005E\",\"B02001_006E\",\"B02001_008E\",\n",
    "                        \"B03001_003E\",\"B01003_001E\",\"B01002_001E\",\"B19301_001E\",\"B17001_002E\",\"B15003_002E\"), {'for':'county:*','in':'state:09'})\n",
    "# Convert to DataFrame\n",
    "census_pd = pd.DataFrame(census_data)\n",
    "# Column Reordering\n",
    "census_pd = census_pd.rename(columns={\"B01003_001E\": \"Population\", \"B02001_002E\": \"White\",\"B02001_003E\": \"Black\",\"B02001_004E\": \"American Indian\",\n",
    "                                        \"B02001_005E\": \"Asian\",\"B02001_006E\": \"Native Hawaiian\",\"B02001_008E\": \"Two or more races\",\n",
    "                                        \"B03001_003E\": \"Hispanic\",\"B01002_001E\": \"Median Age\", \"B19013_001E\": \"Household Income\",\n",
    "                                      \"B19301_001E\": \"Per Capita Income\",\"B17001_002E\": \"Poverty Count\",\"B15003_002E\":\"Non Educated\",\n",
    "                                      \"NAME\": \"Name\", \"state\": \"State\"})                                          \n",
    "#Split NAME column to separate county and state\n",
    "census = census_pd[\"Name\"].astype(str)\n",
    "census = census.str.split(pat=\",\")\n",
    "data = census.tolist()\n",
    "county_state = [\"County name\", \"State\",]\n",
    "census = pd.DataFrame(data, columns = county_state)\n",
    "census_pd['County'] = census['County name']\n",
    "# Add in Poverty Rate (Poverty Count / Population)\n",
    "census_pd[\"Poverty Rate\"] = 100 * \\\n",
    "    census_pd[\"Poverty Count\"].astype(\n",
    "        int) / census_pd[\"Population\"].astype(int)\n",
    "#Add year column\n",
    "census_pd['Year'] = '2013'\n",
    "census_2013 = census_pd"
   ],
   "outputs": [],
   "metadata": {}
  },
  {
   "cell_type": "code",
   "execution_count": 30,
   "source": [
    "# Retrive census data for 2014\n",
    "c = Census(api_key, year=2014)\n",
    "# Run Census Search to retrieve data on all states\n",
    "census_data = c.acs5.get((\"NAME\", \"B19013_001E\", \"B02001_002E\",\"B02001_003E\",\"B02001_004E\",\"B02001_005E\",\"B02001_006E\",\"B02001_008E\",\n",
    "                        \"B03001_003E\",\"B01003_001E\",\"B01002_001E\",\"B19301_001E\",\"B17001_002E\",\"B15003_002E\"), {'for':'county:*','in':'state:09'})\n",
    "# Convert to DataFrame\n",
    "census_pd = pd.DataFrame(census_data)\n",
    "# Column Reordering\n",
    "census_pd = census_pd.rename(columns={\"B01003_001E\": \"Population\", \"B02001_002E\": \"White\",\"B02001_003E\": \"Black\",\"B02001_004E\": \"American Indian\",\n",
    "                                        \"B02001_005E\": \"Asian\",\"B02001_006E\": \"Native Hawaiian\",\"B02001_008E\": \"Two or more races\",\n",
    "                                        \"B03001_003E\": \"Hispanic\",\"B01002_001E\": \"Median Age\", \"B19013_001E\": \"Household Income\",\n",
    "                                      \"B19301_001E\": \"Per Capita Income\",\"B17001_002E\": \"Poverty Count\",\"B15003_002E\":\"Non Educated\",\n",
    "                                      \"NAME\": \"Name\", \"state\": \"State\"})                                          \n",
    "#Split NAME column to separate county and state\n",
    "census = census_pd[\"Name\"].astype(str)\n",
    "census = census.str.split(pat=\",\")\n",
    "data = census.tolist()\n",
    "county_state = [\"County name\", \"State\",]\n",
    "census = pd.DataFrame(data, columns = county_state)\n",
    "census_pd['County'] = census['County name']\n",
    "# Add in Poverty Rate (Poverty Count / Population)\n",
    "census_pd[\"Poverty Rate\"] = 100 * \\\n",
    "    census_pd[\"Poverty Count\"].astype(\n",
    "        int) / census_pd[\"Population\"].astype(int)\n",
    "#Add year column\n",
    "census_pd['Year'] = '2014'\n",
    "census_2014 = census_pd"
   ],
   "outputs": [],
   "metadata": {}
  },
  {
   "cell_type": "code",
   "execution_count": 31,
   "source": [
    "# Retrive census data for 2015\n",
    "c = Census(api_key, year=2015)\n",
    "# Run Census Search to retrieve data on all states\n",
    "census_data = c.acs5.get((\"NAME\", \"B19013_001E\", \"B02001_002E\",\"B02001_003E\",\"B02001_004E\",\"B02001_005E\",\"B02001_006E\",\"B02001_008E\",\n",
    "                        \"B03001_003E\",\"B01003_001E\",\"B01002_001E\",\"B19301_001E\",\"B17001_002E\",\"B15003_002E\"), {'for':'county:*','in':'state:09'})\n",
    "# Convert to DataFrame\n",
    "census_pd = pd.DataFrame(census_data)\n",
    "# Column Reordering\n",
    "census_pd = census_pd.rename(columns={\"B01003_001E\": \"Population\", \"B02001_002E\": \"White\",\"B02001_003E\": \"Black\",\"B02001_004E\": \"American Indian\",\n",
    "                                        \"B02001_005E\": \"Asian\",\"B02001_006E\": \"Native Hawaiian\",\"B02001_008E\": \"Two or more races\",\n",
    "                                        \"B03001_003E\": \"Hispanic\",\"B01002_001E\": \"Median Age\", \"B19013_001E\": \"Household Income\",\n",
    "                                      \"B19301_001E\": \"Per Capita Income\",\"B17001_002E\": \"Poverty Count\",\"B15003_002E\":\"Non Educated\",\n",
    "                                      \"NAME\": \"Name\", \"state\": \"State\"})                                          \n",
    "#Split NAME column to separate county and state\n",
    "census = census_pd[\"Name\"].astype(str)\n",
    "census = census.str.split(pat=\",\")\n",
    "data = census.tolist()\n",
    "county_state = [\"County name\", \"State\",]\n",
    "census = pd.DataFrame(data, columns = county_state)\n",
    "census_pd['County'] = census['County name']\n",
    "# Add in Poverty Rate (Poverty Count / Population)\n",
    "census_pd[\"Poverty Rate\"] = 100 * \\\n",
    "    census_pd[\"Poverty Count\"].astype(\n",
    "        int) / census_pd[\"Population\"].astype(int)\n",
    "#Add year column\n",
    "census_pd['Year'] = '2015'\n",
    "census_2015 = census_pd"
   ],
   "outputs": [],
   "metadata": {}
  },
  {
   "cell_type": "code",
   "execution_count": 32,
   "source": [
    "# Retrive census data for 2016\n",
    "c = Census(api_key, year=2016)\n",
    "# Run Census Search to retrieve data on all states\n",
    "census_data = c.acs5.get((\"NAME\", \"B19013_001E\", \"B02001_002E\",\"B02001_003E\",\"B02001_004E\",\"B02001_005E\",\"B02001_006E\",\"B02001_008E\",\n",
    "                        \"B03001_003E\",\"B01003_001E\",\"B01002_001E\",\"B19301_001E\",\"B17001_002E\",\"B15003_002E\"), {'for':'county:*','in':'state:09'})\n",
    "# Convert to DataFrame\n",
    "census_pd = pd.DataFrame(census_data)\n",
    "# Column Reordering\n",
    "census_pd = census_pd.rename(columns={\"B01003_001E\": \"Population\", \"B02001_002E\": \"White\",\"B02001_003E\": \"Black\",\"B02001_004E\": \"American Indian\",\n",
    "                                        \"B02001_005E\": \"Asian\",\"B02001_006E\": \"Native Hawaiian\",\"B02001_008E\": \"Two or more races\",\n",
    "                                        \"B03001_003E\": \"Hispanic\",\"B01002_001E\": \"Median Age\", \"B19013_001E\": \"Household Income\",\n",
    "                                      \"B19301_001E\": \"Per Capita Income\",\"B17001_002E\": \"Poverty Count\",\"B15003_002E\":\"Non Educated\",\n",
    "                                      \"NAME\": \"Name\", \"state\": \"State\"})                                          \n",
    "#Split NAME column to separate county and state\n",
    "census = census_pd[\"Name\"].astype(str)\n",
    "census = census.str.split(pat=\",\")\n",
    "data = census.tolist()\n",
    "county_state = [\"County name\", \"State\",]\n",
    "census = pd.DataFrame(data, columns = county_state)\n",
    "census_pd['County'] = census['County name']\n",
    "# Add in Poverty Rate (Poverty Count / Population)\n",
    "census_pd[\"Poverty Rate\"] = 100 * \\\n",
    "    census_pd[\"Poverty Count\"].astype(\n",
    "        int) / census_pd[\"Population\"].astype(int)\n",
    "#Add year column\n",
    "census_pd['Year'] = '2016'\n",
    "census_2016 = census_pd"
   ],
   "outputs": [],
   "metadata": {}
  },
  {
   "cell_type": "code",
   "execution_count": 33,
   "source": [
    "# Retrive census data for 2017\n",
    "c = Census(api_key, year=2017)\n",
    "# Run Census Search to retrieve data on all states\n",
    "census_data = c.acs5.get((\"NAME\", \"B19013_001E\", \"B02001_002E\",\"B02001_003E\",\"B02001_004E\",\"B02001_005E\",\"B02001_006E\",\"B02001_008E\",\n",
    "                        \"B03001_003E\",\"B01003_001E\",\"B01002_001E\",\"B19301_001E\",\"B17001_002E\",\"B15003_002E\"), {'for':'county:*','in':'state:09'})\n",
    "# Convert to DataFrame\n",
    "census_pd = pd.DataFrame(census_data)\n",
    "# Column Reordering\n",
    "census_pd = census_pd.rename(columns={\"B01003_001E\": \"Population\", \"B02001_002E\": \"White\",\"B02001_003E\": \"Black\",\"B02001_004E\": \"American Indian\",\n",
    "                                        \"B02001_005E\": \"Asian\",\"B02001_006E\": \"Native Hawaiian\",\"B02001_008E\": \"Two or more races\",\n",
    "                                        \"B03001_003E\": \"Hispanic\",\"B01002_001E\": \"Median Age\", \"B19013_001E\": \"Household Income\",\n",
    "                                      \"B19301_001E\": \"Per Capita Income\",\"B17001_002E\": \"Poverty Count\",\"B15003_002E\":\"Non Educated\",\n",
    "                                      \"NAME\": \"Name\", \"state\": \"State\"})                                          \n",
    "#Split NAME column to separate county and state\n",
    "census = census_pd[\"Name\"].astype(str)\n",
    "census = census.str.split(pat=\",\")\n",
    "data = census.tolist()\n",
    "county_state = [\"County name\", \"State\",]\n",
    "census = pd.DataFrame(data, columns = county_state)\n",
    "census_pd['County'] = census['County name']\n",
    "# Add in Poverty Rate (Poverty Count / Population)\n",
    "census_pd[\"Poverty Rate\"] = 100 * \\\n",
    "    census_pd[\"Poverty Count\"].astype(\n",
    "        int) / census_pd[\"Population\"].astype(int)\n",
    "#Add year column\n",
    "census_pd['Year'] = '2017'\n",
    "census_2017 = census_pd"
   ],
   "outputs": [],
   "metadata": {}
  },
  {
   "cell_type": "code",
   "execution_count": 34,
   "source": [
    "# Retrive census data for 2018\n",
    "c = Census(api_key, year=2018)\n",
    "# Run Census Search to retrieve data on all states\n",
    "census_data = c.acs5.get((\"NAME\", \"B19013_001E\", \"B02001_002E\",\"B02001_003E\",\"B02001_004E\",\"B02001_005E\",\"B02001_006E\",\"B02001_008E\",\n",
    "                        \"B03001_003E\",\"B01003_001E\",\"B01002_001E\",\"B19301_001E\",\"B17001_002E\",\"B15003_002E\"), {'for':'county:*','in':'state:09'})\n",
    "# Convert to DataFrame\n",
    "census_pd = pd.DataFrame(census_data)\n",
    "# Column Reordering\n",
    "census_pd = census_pd.rename(columns={\"B01003_001E\": \"Population\", \"B02001_002E\": \"White\",\"B02001_003E\": \"Black\",\"B02001_004E\": \"American Indian\",\n",
    "                                        \"B02001_005E\": \"Asian\",\"B02001_006E\": \"Native Hawaiian\",\"B02001_008E\": \"Two or more races\",\n",
    "                                        \"B03001_003E\": \"Hispanic\",\"B01002_001E\": \"Median Age\", \"B19013_001E\": \"Household Income\",\n",
    "                                      \"B19301_001E\": \"Per Capita Income\",\"B17001_002E\": \"Poverty Count\",\"B15003_002E\":\"Non Educated\",\n",
    "                                      \"NAME\": \"Name\", \"state\": \"State\"})                                          \n",
    "#Split NAME column to separate county and state\n",
    "census = census_pd[\"Name\"].astype(str)\n",
    "census = census.str.split(pat=\",\")\n",
    "data = census.tolist()\n",
    "county_state = [\"County name\", \"State\",]\n",
    "census = pd.DataFrame(data, columns = county_state)\n",
    "census_pd['County'] = census['County name']\n",
    "# Add in Poverty Rate (Poverty Count / Population)\n",
    "census_pd[\"Poverty Rate\"] = 100 * \\\n",
    "    census_pd[\"Poverty Count\"].astype(\n",
    "        int) / census_pd[\"Population\"].astype(int)\n",
    "#Add year column\n",
    "census_pd['Year'] = '2018'\n",
    "census_2018 = census_pd"
   ],
   "outputs": [],
   "metadata": {}
  },
  {
   "cell_type": "code",
   "execution_count": null,
   "source": [
    "# Retrive census data for 2019\n",
    "c = Census(api_key, year=2019)\n",
    "# Run Census Search to retrieve data on all states\n",
    "census_data = c.acs5.get((\"NAME\", \"B19013_001E\", \"B02001_002E\",\"B02001_003E\",\"B02001_004E\",\"B02001_005E\",\"B02001_006E\",\"B02001_008E\",\n",
    "                        \"B03001_003E\",\"B01003_001E\",\"B01002_001E\",\"B19301_001E\",\"B17001_002E\",\"B15003_002E\"), {'for':'county:*','in':'state:09'})\n",
    "# Convert to DataFrame\n",
    "census_pd = pd.DataFrame(census_data)\n",
    "# Column Reordering\n",
    "census_pd = census_pd.rename(columns={\"B01003_001E\": \"Population\", \"B02001_002E\": \"White\",\"B02001_003E\": \"Black\",\"B02001_004E\": \"American Indian\",\n",
    "                                        \"B02001_005E\": \"Asian\",\"B02001_006E\": \"Native Hawaiian\",\"B02001_008E\": \"Two or more races\",\n",
    "                                        \"B03001_003E\": \"Hispanic\",\"B01002_001E\": \"Median Age\", \"B19013_001E\": \"Household Income\",\n",
    "                                      \"B19301_001E\": \"Per Capita Income\",\"B17001_002E\": \"Poverty Count\",\"B15003_002E\":\"Non Educated\",\n",
    "                                      \"NAME\": \"Name\", \"state\": \"State\"})                                          \n",
    "#Split NAME column to separate county and state\n",
    "census = census_pd[\"Name\"].astype(str)\n",
    "census = census.str.split(pat=\",\")\n",
    "data = census.tolist()\n",
    "county_state = [\"County name\", \"State\",]\n",
    "census = pd.DataFrame(data, columns = county_state)\n",
    "census_pd['County'] = census['County name']\n",
    "# Add in Poverty Rate (Poverty Count / Population)\n",
    "census_pd[\"Poverty Rate\"] = 100 * \\\n",
    "    census_pd[\"Poverty Count\"].astype(\n",
    "        int) / census_pd[\"Population\"].astype(int)\n",
    "#Add year column\n",
    "census_pd['Year'] = '2019'\n",
    "census_2019 = census_pd"
   ],
   "outputs": [],
   "metadata": {}
  },
  {
   "cell_type": "code",
   "execution_count": null,
   "source": [
    "# merge all data frames from 2012 to 2019 and save as .csv format\n",
    "frames = [census_2012, census_2013, census_2014, census_2015, census_2016, census_2017, census_2018, census_2019]\n",
    "census_ct = pd.concat(frames)\n",
    "census_ct.to_csv('Resources/census_ct.csv')"
   ],
   "outputs": [],
   "metadata": {}
  },
  {
   "cell_type": "markdown",
   "source": [
    "### Read CSV file for drug overdose accident in Connecticus from 2012 to 2020"
   ],
   "metadata": {}
  },
  {
   "cell_type": "code",
   "execution_count": null,
   "source": [
    "drug_accident = pd.read_csv(\"resources/Accidental_Drug_Related_Deaths_2012-2020.csv\")"
   ],
   "outputs": [],
   "metadata": {}
  },
  {
   "cell_type": "code",
   "execution_count": null,
   "source": [
    "drug_accident.head()"
   ],
   "outputs": [],
   "metadata": {}
  },
  {
   "cell_type": "code",
   "execution_count": null,
   "source": [
    "drug_accident.columns\n"
   ],
   "outputs": [],
   "metadata": {}
  },
  {
   "cell_type": "code",
   "execution_count": null,
   "source": [],
   "outputs": [],
   "metadata": {}
  }
 ],
 "metadata": {
  "orig_nbformat": 4,
  "language_info": {
   "name": "python",
   "version": "3.6.10",
   "mimetype": "text/x-python",
   "codemirror_mode": {
    "name": "ipython",
    "version": 3
   },
   "pygments_lexer": "ipython3",
   "nbconvert_exporter": "python",
   "file_extension": ".py"
  },
  "kernelspec": {
   "name": "python3",
   "display_name": "Python 3.6.10 64-bit ('ucsdvevn': conda)"
  },
  "interpreter": {
   "hash": "00fc9d1ba54e128ec38ca51cda85132e3ae3f551dd45728d4fa6f2326dd53264"
  }
 },
 "nbformat": 4,
 "nbformat_minor": 2
}