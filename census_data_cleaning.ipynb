{
 "cells": [
  {
   "cell_type": "code",
   "execution_count": 11,
   "id": "28c0802a-cd75-49de-aef9-272fd3ea3192",
   "metadata": {},
   "outputs": [],
   "source": [
    "import pandas as pd\n",
    "from sqlalchemy import create_engine,inspect\n",
    "from sqlalchemy.orm import Session\n",
    "from sqlalchemy.ext.automap import automap_base\n",
    "\n",
    "from my_doc import password\n",
    "import psycopg2 \n",
    "import io\n",
    "\n"
   ]
  },
  {
   "cell_type": "code",
   "execution_count": 12,
   "id": "d774e7fd-d7ca-49f6-b438-9b2e0e46801d",
   "metadata": {},
   "outputs": [],
   "source": [
    "df_2012=pd.read_csv('Resources/census_comb_2012.csv')\n",
    "df_2014=pd.read_csv('Resources/census_comb_2014.csv')\n",
    "df_2015=pd.read_csv('Resources/census_comb_2015.csv')\n",
    "df_2017=pd.read_csv('Resources/census_comb_2017.csv')\n",
    "df_2019=pd.read_csv('Resources/census_comb_2019.csv')"
   ]
  },
  {
   "cell_type": "code",
   "execution_count": 13,
   "id": "a5a7f599-96a3-47a8-ac52-90da7231aa81",
   "metadata": {},
   "outputs": [
    {
     "data": {
      "text/plain": [
       "Index(['Zipcode', 'Population', 'Median Age', 'Household Income',\n",
       "       'Per Capita Income', 'Poverty Rate', 'Unemployment Rate', 'House Value',\n",
       "       'House Construction Year', 'Monthly Owner Cost', 'Monthly Rent',\n",
       "       'Public Transport Rate', 'Personal Transport Rate',\n",
       "       'Commute Time Public', 'Commute Time Car', 'High School Rate',\n",
       "       'College Rate', 'Uneducated Rate', 'English Language Rate',\n",
       "       'Spanish Language Rate', 'White Population Rate',\n",
       "       'Black Population Rate', 'Hispanic Population Rate',\n",
       "       'Asian Population Rate', 'City', 'County', 'Lat', 'Lng',\n",
       "       'Housing_units', 'State'],\n",
       "      dtype='object')"
      ]
     },
     "execution_count": 13,
     "metadata": {},
     "output_type": "execute_result"
    }
   ],
   "source": [
    "df_2012.columns"
   ]
  },
  {
   "cell_type": "code",
   "execution_count": 14,
   "id": "47c2b307-205e-40ec-a622-163b3ff954d5",
   "metadata": {},
   "outputs": [],
   "source": [
    "df_list=[df_2012,df_2014,df_2015,df_2017,df_2019]\n",
    "col_drop=['House Value','House Construction Year', 'Monthly Owner Cost', 'Monthly Rent',\n",
    "       'Public Transport Rate', 'Personal Transport Rate','Commute Time Public', 'Commute Time Car', 'High School Rate',\n",
    "       'College Rate', 'English Language Rate','Spanish Language Rate','Housing_units']\n",
    "\n",
    "for df in df_list:\n",
    "    for column in df.columns:\n",
    "        if column in col_drop:\n",
    "            df.drop(column, axis = 1, inplace=True)\n",
    "    "
   ]
  },
  {
   "cell_type": "code",
   "execution_count": 15,
   "id": "ca9a7d13-0f67-4521-bdb2-3adb0cab7562",
   "metadata": {},
   "outputs": [],
   "source": [
    "df_2012=df_2012.loc[df_2012['State']=='CT']\n",
    "df_2014=df_2014.loc[df_2014['State']=='CT']\n",
    "df_2015=df_2015.loc[df_2015['State']=='CT']\n",
    "df_2017=df_2017.loc[df_2017['State']=='CT']\n",
    "df_2019=df_2019.loc[df_2019['State']=='CT']"
   ]
  },
  {
   "cell_type": "code",
   "execution_count": 16,
   "id": "59eb1e1f-1b44-4b08-8ce7-c3ed42d8e875",
   "metadata": {},
   "outputs": [
    {
     "data": {
      "text/html": [
       "<div>\n",
       "<style scoped>\n",
       "    .dataframe tbody tr th:only-of-type {\n",
       "        vertical-align: middle;\n",
       "    }\n",
       "\n",
       "    .dataframe tbody tr th {\n",
       "        vertical-align: top;\n",
       "    }\n",
       "\n",
       "    .dataframe thead th {\n",
       "        text-align: right;\n",
       "    }\n",
       "</style>\n",
       "<table border=\"1\" class=\"dataframe\">\n",
       "  <thead>\n",
       "    <tr style=\"text-align: right;\">\n",
       "      <th></th>\n",
       "      <th>Zipcode</th>\n",
       "      <th>Population</th>\n",
       "      <th>Median Age</th>\n",
       "      <th>Household Income</th>\n",
       "      <th>Per Capita Income</th>\n",
       "      <th>Poverty Rate</th>\n",
       "      <th>Unemployment Rate</th>\n",
       "      <th>Uneducated Rate</th>\n",
       "      <th>White Population Rate</th>\n",
       "      <th>Black Population Rate</th>\n",
       "      <th>Hispanic Population Rate</th>\n",
       "      <th>Asian Population Rate</th>\n",
       "      <th>City</th>\n",
       "      <th>County</th>\n",
       "      <th>Lat</th>\n",
       "      <th>Lng</th>\n",
       "      <th>State</th>\n",
       "    </tr>\n",
       "  </thead>\n",
       "  <tbody>\n",
       "    <tr>\n",
       "      <th>1063</th>\n",
       "      <td>6001</td>\n",
       "      <td>18410.0</td>\n",
       "      <td>45.1</td>\n",
       "      <td>110439.0</td>\n",
       "      <td>61468.0</td>\n",
       "      <td>4.693102</td>\n",
       "      <td>2.846279</td>\n",
       "      <td>0.195546</td>\n",
       "      <td>90.809343</td>\n",
       "      <td>1.004889</td>\n",
       "      <td>3.416621</td>\n",
       "      <td>5.855513</td>\n",
       "      <td>Avon</td>\n",
       "      <td>Hartford County</td>\n",
       "      <td>41.79</td>\n",
       "      <td>-72.86</td>\n",
       "      <td>CT</td>\n",
       "    </tr>\n",
       "    <tr>\n",
       "      <th>1064</th>\n",
       "      <td>6002</td>\n",
       "      <td>20470.0</td>\n",
       "      <td>46.8</td>\n",
       "      <td>71579.0</td>\n",
       "      <td>40761.0</td>\n",
       "      <td>8.319492</td>\n",
       "      <td>5.989253</td>\n",
       "      <td>0.527601</td>\n",
       "      <td>38.451392</td>\n",
       "      <td>55.085491</td>\n",
       "      <td>4.406448</td>\n",
       "      <td>1.314118</td>\n",
       "      <td>Bloomfield</td>\n",
       "      <td>Hartford County</td>\n",
       "      <td>41.85</td>\n",
       "      <td>-72.74</td>\n",
       "      <td>CT</td>\n",
       "    </tr>\n",
       "    <tr>\n",
       "      <th>1065</th>\n",
       "      <td>6010</td>\n",
       "      <td>60478.0</td>\n",
       "      <td>40.6</td>\n",
       "      <td>58860.0</td>\n",
       "      <td>30561.0</td>\n",
       "      <td>8.887529</td>\n",
       "      <td>5.320943</td>\n",
       "      <td>0.775489</td>\n",
       "      <td>88.237045</td>\n",
       "      <td>3.743510</td>\n",
       "      <td>9.477827</td>\n",
       "      <td>1.944509</td>\n",
       "      <td>Bristol</td>\n",
       "      <td>Hartford County</td>\n",
       "      <td>41.68</td>\n",
       "      <td>-72.94</td>\n",
       "      <td>CT</td>\n",
       "    </tr>\n",
       "    <tr>\n",
       "      <th>1066</th>\n",
       "      <td>6013</td>\n",
       "      <td>9317.0</td>\n",
       "      <td>42.7</td>\n",
       "      <td>106399.0</td>\n",
       "      <td>43173.0</td>\n",
       "      <td>3.617044</td>\n",
       "      <td>2.865729</td>\n",
       "      <td>0.279060</td>\n",
       "      <td>97.542127</td>\n",
       "      <td>1.212837</td>\n",
       "      <td>3.015992</td>\n",
       "      <td>0.676183</td>\n",
       "      <td>Burlington</td>\n",
       "      <td>Hartford County</td>\n",
       "      <td>41.76</td>\n",
       "      <td>-72.96</td>\n",
       "      <td>CT</td>\n",
       "    </tr>\n",
       "    <tr>\n",
       "      <th>1067</th>\n",
       "      <td>6016</td>\n",
       "      <td>6332.0</td>\n",
       "      <td>40.9</td>\n",
       "      <td>73404.0</td>\n",
       "      <td>34141.0</td>\n",
       "      <td>5.022110</td>\n",
       "      <td>7.406822</td>\n",
       "      <td>0.268478</td>\n",
       "      <td>87.365761</td>\n",
       "      <td>6.743525</td>\n",
       "      <td>5.022110</td>\n",
       "      <td>2.495262</td>\n",
       "      <td>Broad Brook</td>\n",
       "      <td>Hartford County</td>\n",
       "      <td>41.91</td>\n",
       "      <td>-72.55</td>\n",
       "      <td>CT</td>\n",
       "    </tr>\n",
       "  </tbody>\n",
       "</table>\n",
       "</div>"
      ],
      "text/plain": [
       "      Zipcode  Population  Median Age  Household Income  Per Capita Income  \\\n",
       "1063     6001     18410.0        45.1          110439.0            61468.0   \n",
       "1064     6002     20470.0        46.8           71579.0            40761.0   \n",
       "1065     6010     60478.0        40.6           58860.0            30561.0   \n",
       "1066     6013      9317.0        42.7          106399.0            43173.0   \n",
       "1067     6016      6332.0        40.9           73404.0            34141.0   \n",
       "\n",
       "      Poverty Rate  Unemployment Rate  Uneducated Rate  White Population Rate  \\\n",
       "1063      4.693102           2.846279         0.195546              90.809343   \n",
       "1064      8.319492           5.989253         0.527601              38.451392   \n",
       "1065      8.887529           5.320943         0.775489              88.237045   \n",
       "1066      3.617044           2.865729         0.279060              97.542127   \n",
       "1067      5.022110           7.406822         0.268478              87.365761   \n",
       "\n",
       "      Black Population Rate  Hispanic Population Rate  Asian Population Rate  \\\n",
       "1063               1.004889                  3.416621               5.855513   \n",
       "1064              55.085491                  4.406448               1.314118   \n",
       "1065               3.743510                  9.477827               1.944509   \n",
       "1066               1.212837                  3.015992               0.676183   \n",
       "1067               6.743525                  5.022110               2.495262   \n",
       "\n",
       "             City           County    Lat    Lng State  \n",
       "1063         Avon  Hartford County  41.79 -72.86    CT  \n",
       "1064   Bloomfield  Hartford County  41.85 -72.74    CT  \n",
       "1065      Bristol  Hartford County  41.68 -72.94    CT  \n",
       "1066   Burlington  Hartford County  41.76 -72.96    CT  \n",
       "1067  Broad Brook  Hartford County  41.91 -72.55    CT  "
      ]
     },
     "execution_count": 16,
     "metadata": {},
     "output_type": "execute_result"
    }
   ],
   "source": [
    "df_2012.head()"
   ]
  },
  {
   "cell_type": "code",
   "execution_count": 17,
   "id": "27babda2-6028-4f94-a4d3-9843e2f8c6b8",
   "metadata": {},
   "outputs": [],
   "source": [
    "df_2012=df_2012.loc[df_2012['Population']>0]\n",
    "df_2014=df_2014.loc[df_2014['Population']>0]\n",
    "df_2015=df_2015.loc[df_2015['Population']>0]\n",
    "df_2017=df_2017.loc[df_2017['Population']>0]\n",
    "df_2019=df_2019.loc[df_2019['Population']>0]"
   ]
  },
  {
   "cell_type": "code",
   "execution_count": 18,
   "id": "5c72e4b8-971e-48ce-9f70-45241f947adc",
   "metadata": {},
   "outputs": [
    {
     "data": {
      "text/plain": [
       "Index(['Zipcode', 'Population', 'Median Age', 'Household Income',\n",
       "       'Per Capita Income', 'Poverty Rate', 'Unemployment Rate',\n",
       "       'Uneducated Rate', 'White Population Rate', 'Black Population Rate',\n",
       "       'Hispanic Population Rate', 'Asian Population Rate', 'City', 'County',\n",
       "       'Lat', 'Lng', 'State'],\n",
       "      dtype='object')"
      ]
     },
     "execution_count": 18,
     "metadata": {},
     "output_type": "execute_result"
    }
   ],
   "source": [
    "df_2012.columns"
   ]
  },
  {
   "cell_type": "code",
   "execution_count": 19,
   "id": "3eec9204-bf03-4a90-bf85-40cc75ffe36d",
   "metadata": {},
   "outputs": [
    {
     "name": "stdout",
     "output_type": "stream",
     "text": [
      "<class 'pandas.core.frame.DataFrame'>\n",
      "Int64Index: 278 entries, 2176 to 2458\n",
      "Data columns (total 17 columns):\n",
      " #   Column                    Non-Null Count  Dtype  \n",
      "---  ------                    --------------  -----  \n",
      " 0   Zipcode                   278 non-null    int64  \n",
      " 1   Population                278 non-null    float64\n",
      " 2   Median Age                278 non-null    float64\n",
      " 3   Household Income          278 non-null    float64\n",
      " 4   Per Capita Income         277 non-null    float64\n",
      " 5   Poverty Rate              278 non-null    float64\n",
      " 6   Unemployment Rate         278 non-null    float64\n",
      " 7   Uneducated Rate           278 non-null    float64\n",
      " 8   White Population Rate     278 non-null    float64\n",
      " 9   Black Population Rate     278 non-null    float64\n",
      " 10  Hispanic Population Rate  278 non-null    float64\n",
      " 11  Asian Population Rate     278 non-null    float64\n",
      " 12  City                      278 non-null    object \n",
      " 13  County                    278 non-null    object \n",
      " 14  Lat                       278 non-null    float64\n",
      " 15  Lng                       278 non-null    float64\n",
      " 16  State                     278 non-null    object \n",
      "dtypes: float64(13), int64(1), object(3)\n",
      "memory usage: 39.1+ KB\n"
     ]
    }
   ],
   "source": [
    "df_2014.info()"
   ]
  },
  {
   "cell_type": "code",
   "execution_count": null,
   "id": "ddbb468c-c2df-4a9b-b50c-7237f914b57b",
   "metadata": {},
   "outputs": [],
   "source": []
  },
  {
   "cell_type": "code",
   "execution_count": null,
   "id": "cedfc333-6db6-4c72-b5e7-e7931716a024",
   "metadata": {},
   "outputs": [],
   "source": []
  },
  {
   "cell_type": "code",
   "execution_count": null,
   "id": "74c5e763-50dd-436c-9800-841d1b922e28",
   "metadata": {},
   "outputs": [],
   "source": []
  },
  {
   "cell_type": "code",
   "execution_count": null,
   "id": "ef7d364a-12dc-44b4-9359-13b73cb7170d",
   "metadata": {},
   "outputs": [],
   "source": []
  },
  {
   "cell_type": "code",
   "execution_count": 20,
   "id": "544b8107-b05f-4bf4-bd15-c47190576dba",
   "metadata": {},
   "outputs": [],
   "source": [
    "df_2012.to_csv('Resources/df_2012.csv',index=False)\n",
    "df_2014.to_csv('Resources/df_2014.csv',index=False)\n",
    "df_2015.to_csv('Resources/df_2015.csv',index=False)\n",
    "df_2017.to_csv('Resources/df_2017.csv',index= False)\n",
    "df_2019.to_csv('Resources/df_2019.csv',index= False)\n"
   ]
  },
  {
   "cell_type": "code",
   "execution_count": null,
   "id": "f7bae11c-ddee-4155-bfa2-ad4f4e3cf596",
   "metadata": {},
   "outputs": [],
   "source": []
  }
 ],
 "metadata": {
  "kernelspec": {
   "display_name": "Python 3",
   "language": "python",
   "name": "python3"
  },
  "language_info": {
   "codemirror_mode": {
    "name": "ipython",
    "version": 3
   },
   "file_extension": ".py",
   "mimetype": "text/x-python",
   "name": "python",
   "nbconvert_exporter": "python",
   "pygments_lexer": "ipython3",
   "version": "3.6.13"
  }
 },
 "nbformat": 4,
 "nbformat_minor": 5
}
